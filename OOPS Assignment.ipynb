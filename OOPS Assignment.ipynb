{
 "cells": [
  {
   "cell_type": "markdown",
   "id": "03a8e79b-4eda-4d93-a947-ab0040e5237c",
   "metadata": {},
   "source": [
    "### Que 1. What are the five key concepts of Object-Oriented Programming (OOP)?"
   ]
  },
  {
   "cell_type": "markdown",
   "id": "773a699c-59d2-4feb-bf04-20d54eb184a1",
   "metadata": {},
   "source": [
    "The five key concepts of Object-Oriented Programming (OOP) are:\n",
    "\n",
    "#### 1. Class: \n",
    "A blueprint for creating objects (instances). It defines a set of properties and methods that the objects created from the class will have.\n",
    "\n",
    "#### 2. Object:\n",
    "An instance of a class. Objects have attributes (data) and behavior (methods) defined by their class.\n",
    "\n",
    "#### 3. Encapsulation: \n",
    "The practice of bundling data (attributes) and methods (functions) that operate on the data into a single unit (class), and restricting access to some of the object's components. This helps protect the integrity of the data by preventing external interference and misuse.\n",
    "\n",
    "#### 4. Inheritance: \n",
    "A mechanism that allows one class (child or subclass) to inherit properties and methods from another class (parent or superclass). This promotes code reuse and logical hierarchy in class relationships.\n",
    "\n",
    "#### 5. Polymorphism: \n",
    "The ability of different classes to respond to the same method call in different ways. It allows one interface to be used for a general class of actions, with the specific action determined by the type of object that implements the interface.\n",
    "\n",
    "These principles form the foundation of OOP, enabling code modularity, reuse, and flexibility."
   ]
  },
  {
   "cell_type": "markdown",
   "id": "87eda000-0ee6-4104-9440-546636cb6358",
   "metadata": {},
   "source": [
    "### Que 2. Write a Python class for a `Car` with attributes for `make`, `model`, and `year`. Include a method to display the car's information.\n"
   ]
  },
  {
   "cell_type": "markdown",
   "id": "8eb1c0d6-6b40-460b-81cf-7b4887a2a92b",
   "metadata": {},
   "source": [
    "An example of a Python class for a Car with the attributes make, model, and year, and a method to display the car’s information:"
   ]
  },
  {
   "cell_type": "code",
   "execution_count": 23,
   "id": "3a9476a5-7f10-43a4-a2e4-1fc5a781e811",
   "metadata": {},
   "outputs": [
    {
     "name": "stdout",
     "output_type": "stream",
     "text": [
      "Car Information: 2022 Hyundai Verna\n"
     ]
    }
   ],
   "source": [
    "class Car:\n",
    "    def __init__(self, make, model, year):\n",
    "        self.make = make\n",
    "        self.model = model\n",
    "        self.year = year\n",
    "\n",
    "    def display_info(self):\n",
    "        print(f\"Car Information: {self.year} {self.make} {self.model}\")\n",
    "\n",
    "# Example usage:\n",
    "my_car = Car(\"Hyundai\", \"Verna\", 2022)\n",
    "my_car.display_info()"
   ]
  },
  {
   "cell_type": "markdown",
   "id": "7642b3a7-728a-46a0-bea5-e7155b081e21",
   "metadata": {},
   "source": [
    "#### In this code:\n",
    "- The __init__ method is used to initialize the attributes make, model, and year when a new instance of the Car class is created.\n",
    "- The display_info method prints the car’s information in a formatted string.\n",
    "\n",
    "When you create an instance of the Car class (e.g., my_car = Car(\"Hyundai\", \"Verna\", 2022)) and call my_car.display_info(), it will output the car's information."
   ]
  },
  {
   "cell_type": "markdown",
   "id": "fb0104de-f332-4053-a45a-3a740a85b4ba",
   "metadata": {},
   "source": [
    "### Que 3. Explain the difference between instance methods and class methods. Provide an example of each."
   ]
  },
  {
   "cell_type": "markdown",
   "id": "f0aaf436-46d8-43c2-945d-8a93158329fe",
   "metadata": {},
   "source": [
    "In Python, *instance methods* and *class methods* serve different purposes, though both are used within classes. Here's a breakdown of the differences:"
   ]
  },
  {
   "cell_type": "markdown",
   "id": "566d78fb-4a76-44e0-b01b-98b3600ab9f4",
   "metadata": {},
   "source": [
    "#### 1. Instance Methods:\n",
    "##### Definition: \n",
    "These methods are tied to an instance of the class and operate on the data (attributes) of a specific object (instance).\n",
    "##### Access: \n",
    "They require an instance of the class to be called.\n",
    "##### Self Parameter:\n",
    "The first parameter is always self, which represents the instance calling the method. Through self, the method can access and modify the instance's attributes.\n",
    "##### Use Case: \n",
    "Instance methods are used when you need to work with or modify an instance’s state.\n",
    "\n"
   ]
  },
  {
   "cell_type": "markdown",
   "id": "667d485e-e9ad-40fa-b57c-01827881b494",
   "metadata": {},
   "source": [
    "#### Example of an Instance Method:"
   ]
  },
  {
   "cell_type": "code",
   "execution_count": 37,
   "id": "a83df24b-cb2f-4919-bf7a-376f3fd4354c",
   "metadata": {},
   "outputs": [
    {
     "name": "stdout",
     "output_type": "stream",
     "text": [
      "Car: Hyundai Creta\n"
     ]
    }
   ],
   "source": [
    "class Car:\n",
    "       def __init__(self, brand, model):\n",
    "           self.brand = brand\n",
    "           self.model = model\n",
    "\n",
    "       def get_info(self):\n",
    "           return f\"Car: {self.brand} {self.model}\"\n",
    "\n",
    "car1 = Car(\"Hyundai\", \"Creta\") # Creating an instance of the class\n",
    "print(car1.get_info())"
   ]
  },
  {
   "cell_type": "markdown",
   "id": "a8f86610-dd1c-4811-9d4e-9bfc106236a0",
   "metadata": {},
   "source": [
    "#### 2. Class Methods:\n",
    "##### Definition:\n",
    "These methods are tied to the class itself rather than any instance. They can access or modify class-level data (shared across all instances).\n",
    "##### Access:\n",
    "They do not require an instance of the class to be called but can be called by both the class itself and its instances.\n",
    "##### Cls Parameter: \n",
    "The first parameter is cls, which represents the class. Through cls, the method can access or modify class variables.\n",
    "##### Use Case:\n",
    "Class methods are useful when you want to perform actions that are related to the class but don't need instance-specific data.\n"
   ]
  },
  {
   "cell_type": "markdown",
   "id": "3d0e7cb6-33c7-48cd-b103-a3b13b8a2493",
   "metadata": {},
   "source": [
    "#### Example of a Class Method:"
   ]
  },
  {
   "cell_type": "code",
   "execution_count": 40,
   "id": "791e7896-d8b6-4cb1-8f44-b81c86e7e1d7",
   "metadata": {},
   "outputs": [
    {
     "name": "stdout",
     "output_type": "stream",
     "text": [
      "Total Cars: 2\n"
     ]
    }
   ],
   "source": [
    "class Car:\n",
    "       car_count = 0  # Class variable\n",
    "\n",
    "       def __init__(self, brand, model):\n",
    "           self.brand = brand\n",
    "           self.model = model\n",
    "           Car.car_count += 1  # Incrementing class variable\n",
    "\n",
    "       @classmethod\n",
    "       def get_car_count(cls):\n",
    "           return f\"Total Cars: {cls.car_count}\"\n",
    "\n",
    "# Creating instances of the class\n",
    "car1 = Car(\"Hyundai\", \"Creta\")\n",
    "car2 = Car(\"MG\", \"Hector\")\n",
    "\n",
    "# Accessing the class method\n",
    "print(Car.get_car_count())"
   ]
  },
  {
   "cell_type": "markdown",
   "id": "dd9000cb-2e86-4a3c-b95e-145b53b5919f",
   "metadata": {},
   "source": [
    "#### Summary:\n",
    "- Instance methods operate on specific instances of a class, using self to access instance data.\n",
    "- Class methods operate on the class itself and use cls to access class-level data."
   ]
  },
  {
   "cell_type": "markdown",
   "id": "6c41a8aa-3a92-4e3a-95dc-a8b4565da01d",
   "metadata": {},
   "source": [
    "### Que 4. How does Python implement method overloading? Give an example."
   ]
  },
  {
   "cell_type": "markdown",
   "id": "80986ebf-4cd9-4de6-a554-12a110f42cf9",
   "metadata": {},
   "source": [
    "In Python, *method overloading* (the ability to define multiple methods with the same name but different parameter signatures) is not supported in the same way as in languages like Java or C++. However, you can achieve similar behavior using default parameters or variable-length arguments (*args and **kwargs).\n",
    "\n",
    "Python does not allow multiple methods with the same name in the same class. If you try to define multiple methods with the same name, only the last one will be used, as it will overwrite the previous ones.\n"
   ]
  },
  {
   "cell_type": "markdown",
   "id": "cd403010-e4fc-436e-8018-f692fb87815c",
   "metadata": {},
   "source": [
    "#### 1. Use Default Arguments:\n",
    "Default arguments allow you to define a single method that can be called with different numbers of parameters."
   ]
  },
  {
   "cell_type": "markdown",
   "id": "157a1b67-4cac-404b-8379-2cfdba452a6f",
   "metadata": {},
   "source": [
    "#### Example"
   ]
  },
  {
   "cell_type": "code",
   "execution_count": 65,
   "id": "981a8694-169b-4f94-b912-36a242419b64",
   "metadata": {},
   "outputs": [
    {
     "name": "stdout",
     "output_type": "stream",
     "text": [
      "20\n"
     ]
    }
   ],
   "source": [
    "class Calculator:\n",
    "       def add(self, a, b=0, c=0):\n",
    "           return a + b + c\n",
    "\n",
    "calc = Calculator()\n",
    "\n",
    "print(calc.add(20))        "
   ]
  },
  {
   "cell_type": "code",
   "execution_count": 66,
   "id": "9c523525-b388-4d4b-974e-4a789617a380",
   "metadata": {},
   "outputs": [
    {
     "name": "stdout",
     "output_type": "stream",
     "text": [
      "26\n"
     ]
    }
   ],
   "source": [
    "print(calc.add(20, 6))"
   ]
  },
  {
   "cell_type": "code",
   "execution_count": 67,
   "id": "0c4f9348-81bb-486e-b06c-2224e8387a9e",
   "metadata": {},
   "outputs": [
    {
     "name": "stdout",
     "output_type": "stream",
     "text": [
      "30\n"
     ]
    }
   ],
   "source": [
    "print(calc.add(20, 6, 4)) "
   ]
  },
  {
   "cell_type": "markdown",
   "id": "d79964d8-1025-4f2e-b403-3e37cdcf0e6e",
   "metadata": {},
   "source": [
    "Here, the method add can handle one, two, or three arguments by providing default values for the additional parameters.\n"
   ]
  },
  {
   "cell_type": "markdown",
   "id": "1f724677-1217-4144-b369-f1cb3def3798",
   "metadata": {},
   "source": [
    "#### 2. **Use Variable-length Arguments (*args and *kwargs)**:\n",
    "You can also use *args to pass a variable number of positional arguments or **kwargs for keyword arguments."
   ]
  },
  {
   "cell_type": "markdown",
   "id": "f58358e3-4428-4583-b271-5418189dbfc7",
   "metadata": {},
   "source": [
    "#### Example"
   ]
  },
  {
   "cell_type": "code",
   "execution_count": 69,
   "id": "e77f5dd3-e81a-4136-a604-23c13f32d56a",
   "metadata": {},
   "outputs": [
    {
     "name": "stdout",
     "output_type": "stream",
     "text": [
      "50\n"
     ]
    }
   ],
   "source": [
    "class Calculator:\n",
    "       def add(self, *args):\n",
    "           return sum(args)\n",
    "\n",
    "calc = Calculator()\n",
    "\n",
    "print(calc.add(50))           "
   ]
  },
  {
   "cell_type": "code",
   "execution_count": 70,
   "id": "878a91ad-22e1-42c1-8bb6-f013bc50738b",
   "metadata": {},
   "outputs": [
    {
     "name": "stdout",
     "output_type": "stream",
     "text": [
      "57\n"
     ]
    }
   ],
   "source": [
    "print(calc.add(50, 7))        "
   ]
  },
  {
   "cell_type": "code",
   "execution_count": 71,
   "id": "9803ca17-9edf-460f-8cc2-3df3fd84cbe3",
   "metadata": {},
   "outputs": [
    {
     "name": "stdout",
     "output_type": "stream",
     "text": [
      "60\n"
     ]
    }
   ],
   "source": [
    "print(calc.add(50, 7, 3)) "
   ]
  },
  {
   "cell_type": "markdown",
   "id": "eabc80e7-9e62-4271-9ec1-d8d81c91b17b",
   "metadata": {},
   "source": [
    "In this example, add can take any number of arguments, and all are summed."
   ]
  },
  {
   "cell_type": "markdown",
   "id": "d5f1237b-e32b-49d3-a714-713f20773d33",
   "metadata": {},
   "source": [
    "#### 3. Using @singledispatch for Function Overloading:\n",
    "While Python doesn't directly support method overloading, the functools.singledispatch decorator can be used for function overloading based on argument types. However, this works only for functions, not methods.\n"
   ]
  },
  {
   "cell_type": "markdown",
   "id": "31488178-24fc-430e-981a-aaf5c5548002",
   "metadata": {},
   "source": [
    "##### Example:"
   ]
  },
  {
   "cell_type": "code",
   "execution_count": 78,
   "id": "c128ca5c-688b-4c8b-9b9d-467db5d1d0ef",
   "metadata": {},
   "outputs": [],
   "source": [
    "@singledispatch\n",
    "def add(value):\n",
    "       raise NotImplementedError(\"Unsupported type\")"
   ]
  },
  {
   "cell_type": "code",
   "execution_count": 79,
   "id": "e02c353a-c6e5-45fd-b2cf-46ff46502311",
   "metadata": {},
   "outputs": [],
   "source": [
    "@add.register(int)\n",
    "def _(value):\n",
    "       return value + 1"
   ]
  },
  {
   "cell_type": "code",
   "execution_count": 80,
   "id": "737b3307-5aff-4100-be5c-d7e839a36d7f",
   "metadata": {},
   "outputs": [
    {
     "name": "stdout",
     "output_type": "stream",
     "text": [
      "11\n"
     ]
    }
   ],
   "source": [
    "print(add(10))"
   ]
  },
  {
   "cell_type": "code",
   "execution_count": 83,
   "id": "eea561b4-4937-44d5-a9a3-3bb1fa19f85d",
   "metadata": {},
   "outputs": [],
   "source": [
    "@add.register(str)\n",
    "def _(value):\n",
    "       return value + \" is a word\""
   ]
  },
  {
   "cell_type": "code",
   "execution_count": 84,
   "id": "cf481fee-6586-4da6-b615-8f051217e043",
   "metadata": {},
   "outputs": [
    {
     "name": "stdout",
     "output_type": "stream",
     "text": [
      "Hello is a word\n"
     ]
    }
   ],
   "source": [
    "print(add(\"Hello\"))"
   ]
  },
  {
   "cell_type": "markdown",
   "id": "c8324afb-a514-4fce-b051-d33cb670de7f",
   "metadata": {},
   "source": [
    "Here, the add function is overloaded based on the argument type."
   ]
  },
  {
   "cell_type": "markdown",
   "id": "03b3600c-c65a-4869-9125-d2c6a01fd389",
   "metadata": {},
   "source": [
    "#### Summary:\n",
    "- Python doesn't support traditional method overloading like some other languages.\n",
    "- You can use default parameters or variable-length arguments (*args and **kwargs) to simulate overloading.\n",
    "- @singledispatch allows function overloading based on argument type but is limited to functions, not methods."
   ]
  },
  {
   "cell_type": "markdown",
   "id": "30b845aa-388a-4a55-b069-5ba9f3d0428a",
   "metadata": {},
   "source": [
    "### Que 5. What are the three types of access modifiers in Python? How are they denoted?"
   ]
  },
  {
   "cell_type": "markdown",
   "id": "f55201d4-65dc-4095-8b89-da9b9ec546f0",
   "metadata": {},
   "source": [
    "In Python, access modifiers control the visibility of class members (attributes and methods) from outside the class. Unlike languages such as Java or C++, Python doesn't have strict access control. Instead, it uses naming conventions to indicate different levels of access. Python's philosophy is based on the idea of \"we are all consenting adults here,\" meaning it relies more on conventions than enforcement."
   ]
  },
  {
   "cell_type": "markdown",
   "id": "c5de650a-920a-4d92-ab94-76ff0b70a72b",
   "metadata": {},
   "source": [
    "#### 1. Public Members:\n",
    "##### Definition:\n",
    "Public members are accessible from anywhere (both inside and outside the class).\n",
    "##### Denotation: \n",
    "Public members are denoted by names that do not start with an underscore.\n",
    "##### Usage: \n",
    "You can access these members freely from any part of the program."
   ]
  },
  {
   "cell_type": "markdown",
   "id": "b6057414-e7a4-4b24-8952-16640292bb5b",
   "metadata": {},
   "source": [
    "##### Example:"
   ]
  },
  {
   "cell_type": "code",
   "execution_count": 89,
   "id": "8d6bec7b-3dd6-42a1-b2eb-3b966b80312e",
   "metadata": {},
   "outputs": [
    {
     "name": "stdout",
     "output_type": "stream",
     "text": [
      "I am public\n"
     ]
    }
   ],
   "source": [
    "class MyClass:\n",
    "       def __init__(self):\n",
    "           self.public_var = \"I am public\"\n",
    "    \n",
    "\n",
    "obj = MyClass()\n",
    "print(obj.public_var)          "
   ]
  },
  {
   "cell_type": "code",
   "execution_count": 87,
   "id": "8f432ed8-7410-47b3-bdf7-fffbd70ee89d",
   "metadata": {},
   "outputs": [],
   "source": [
    "def public_method(self):\n",
    "           return \"This is a public method\""
   ]
  },
  {
   "cell_type": "code",
   "execution_count": 88,
   "id": "7d781427-2ab4-4b99-8414-22d5d985b541",
   "metadata": {},
   "outputs": [
    {
     "name": "stdout",
     "output_type": "stream",
     "text": [
      "This is a public method\n"
     ]
    }
   ],
   "source": [
    "print(obj.public_method()) "
   ]
  },
  {
   "cell_type": "markdown",
   "id": "ada4f4a6-c62a-4ccd-8ddd-a7eb47b72a45",
   "metadata": {},
   "source": [
    "#### 2. *Protected Members*\n",
    "##### Definition: \n",
    "Protected members are intended to be accessed only within the class and its subclasses. However, in Python, they can still be accessed from outside the class—this is merely a convention, not enforcement.\n",
    "##### Denotation:\n",
    "Protected members are denoted by a single leading underscore (_).\n",
    "##### Usage:\n",
    "By convention, protected members should not be accessed directly outside the class or its subclasses, although Python doesn’t strictly prevent it."
   ]
  },
  {
   "cell_type": "markdown",
   "id": "ddf014bf-2b64-44cf-9518-29c969efe3da",
   "metadata": {},
   "source": [
    "##### Example:"
   ]
  },
  {
   "cell_type": "code",
   "execution_count": 100,
   "id": "a28d18ff-625f-4bce-bac7-c5680414868f",
   "metadata": {},
   "outputs": [
    {
     "name": "stdout",
     "output_type": "stream",
     "text": [
      "I am happy\n"
     ]
    }
   ],
   "source": [
    "class MyClass:\n",
    "       def __init__(self):\n",
    "           self._protected_var = \"I am happy\"   \n",
    "\n",
    "obj = MyClass()\n",
    "print(obj._protected_var)        "
   ]
  },
  {
   "cell_type": "code",
   "execution_count": 101,
   "id": "f4af8a3e-e431-430c-9062-3bde1a6319bf",
   "metadata": {},
   "outputs": [
    {
     "name": "stdout",
     "output_type": "stream",
     "text": [
      "This is a protected method\n"
     ]
    }
   ],
   "source": [
    "class MyClass:\n",
    "       def _protected_method(self):\n",
    "           return \"This is a protected method\"\n",
    "obj = MyClass()\n",
    "print(obj._protected_method())"
   ]
  },
  {
   "cell_type": "markdown",
   "id": "2fb9c59e-446d-410f-b404-3ec1b6e24814",
   "metadata": {},
   "source": [
    "#### 3. Private Members:\n",
    "##### Definition:\n",
    "Private members are meant to be accessed only within the class that defines them. Python uses name mangling to make private members less accessible from outside the class.\n",
    "##### Denotation:\n",
    "Private members are denoted by a double leading underscore (__).\n",
    "##### Usage:\n",
    "Private members are not directly accessible outside the class. Python performs name mangling by prefixing the class name to the private member’s name, making it harder (but not impossible) to access them from outside the class."
   ]
  },
  {
   "cell_type": "markdown",
   "id": "449f572c-5c97-4217-83bc-83d9acd72f40",
   "metadata": {},
   "source": [
    "##### Example:"
   ]
  },
  {
   "cell_type": "code",
   "execution_count": 145,
   "id": "6e3d60b5-265c-45ca-a9b2-19c5c192b6cb",
   "metadata": {},
   "outputs": [
    {
     "name": "stdout",
     "output_type": "stream",
     "text": [
      "I am private\n",
      "This is a private method\n"
     ]
    }
   ],
   "source": [
    "class MyClass:\n",
    "       def __init__(self):\n",
    "           self.__private_var = \"I am private\"\n",
    "       \n",
    "       def __private_method(self):\n",
    "           return \"This is a private method\"\n",
    "\n",
    "obj = MyClass()\n",
    "\n",
    "# These will raise an AttributeError if accessed directly\n",
    "# print(obj.__private_var)  # AttributeError: 'MyClass' object has no attribute '__private_var'\n",
    "# print(obj.__private_method())  # AttributeError: 'MyClass' object has no attribute '__private_method'\n",
    "\n",
    "# But can be accessed through name mangling\n",
    "print(obj._MyClass__private_var)        \n",
    "print(obj._MyClass__private_method())    "
   ]
  },
  {
   "cell_type": "markdown",
   "id": "acada369-a952-473b-bd8b-5efe22ef5005",
   "metadata": {},
   "source": [
    "#### Summary:\n",
    "##### Public members:\n",
    "No leading underscore, accessible from anywhere.\n",
    "##### Protected members:\n",
    "A single leading underscore (_), intended for internal use within the class and subclasses.\n",
    "##### Private members:\n",
    "A double leading underscore (__), intended to be fully private, but can still be accessed through name mangling (_ClassName__member)."
   ]
  },
  {
   "cell_type": "markdown",
   "id": "0dbc3046-80ad-4ab4-8d94-67842516582e",
   "metadata": {},
   "source": [
    "### Que 6. Describe the five types of inheritance in Python. Provide a simple example of multiple inheritance."
   ]
  },
  {
   "cell_type": "markdown",
   "id": "30e32690-314d-4526-93ae-a59cd1a220f0",
   "metadata": {},
   "source": [
    "In Python, inheritance allows one class (child class or subclass) to inherit attributes and methods from another class (parent class or superclass). There are five types of inheritance in Python, each defining a different way in which classes can be related to one another."
   ]
  },
  {
   "cell_type": "markdown",
   "id": "9e5a19b5-7444-44b7-a1e3-d19b5608ecb4",
   "metadata": {},
   "source": [
    "#### 1. Single Inheritance:\n",
    "A subclass inherits from only one parent class."
   ]
  },
  {
   "cell_type": "markdown",
   "id": "ad7d343e-b637-4ea4-9a76-03fb3a37a602",
   "metadata": {},
   "source": [
    "##### Example:"
   ]
  },
  {
   "cell_type": "code",
   "execution_count": 161,
   "id": "2bde6d5b-c0db-47fa-b660-b7cc03482790",
   "metadata": {},
   "outputs": [
    {
     "name": "stdout",
     "output_type": "stream",
     "text": [
      "Some sound\n",
      "Woof!\n"
     ]
    }
   ],
   "source": [
    "class Animal:\n",
    "         def sound(self):\n",
    "             return \"Some sound\"\n",
    "\n",
    "class Dog(Animal):\n",
    "         def bark(self):\n",
    "             return \"Woof!\"\n",
    "\n",
    "dog = Dog()\n",
    "print(dog.sound())  \n",
    "print(dog.bark())  "
   ]
  },
  {
   "cell_type": "markdown",
   "id": "37ddb464-cf60-43d2-82f6-762bf1be3a55",
   "metadata": {},
   "source": [
    "#### 2. Multiple Inheritance\n",
    "A subclass can inherit from more than one parent class.\n",
    "##### Example:\n"
   ]
  },
  {
   "cell_type": "code",
   "execution_count": 169,
   "id": "5cea8472-f560-4211-b803-8d455eeb522c",
   "metadata": {},
   "outputs": [
    {
     "name": "stdout",
     "output_type": "stream",
     "text": [
      "Driving\n"
     ]
    }
   ],
   "source": [
    "class Father:\n",
    "         def skills(self):\n",
    "             return \"Driving\"\n",
    "\n",
    "class Mother:\n",
    "         def skills(self):\n",
    "             return \"Cooking\"\n",
    "\n",
    "class Child(Father, Mother):\n",
    "         pass\n",
    "\n",
    "child = Child()\n",
    "print(child.skills())  # Output: Driving (method resolution order chooses Father first)\n",
    "     "
   ]
  },
  {
   "cell_type": "markdown",
   "id": "9391b16c-f540-4421-aad0-70391546e105",
   "metadata": {},
   "source": [
    "In this example, the child class inherits from both Father and Mother."
   ]
  },
  {
   "cell_type": "markdown",
   "id": "5dd96d2c-7f10-422e-a23d-342940e80753",
   "metadata": {},
   "source": [
    "#### 3. Multilevel Inheritance:\n",
    "A subclass inherits from a parent class, and another class inherits from that subclass, forming a chain"
   ]
  },
  {
   "cell_type": "markdown",
   "id": "43cf4cd5-35a8-4007-b700-905cf47d14da",
   "metadata": {},
   "source": [
    "##### Example:"
   ]
  },
  {
   "cell_type": "code",
   "execution_count": 186,
   "id": "e57b1250-4b0c-4dc1-b383-cd263e053605",
   "metadata": {},
   "outputs": [
    {
     "name": "stdout",
     "output_type": "stream",
     "text": [
      "Some sound\n",
      "Woof!\n",
      "Bulldog\n"
     ]
    }
   ],
   "source": [
    "class Animal:\n",
    "         def sound(self):\n",
    "             return \"Some sound\"\n",
    "\n",
    "class Dog(Animal):\n",
    "         def bark(self):\n",
    "             return \"Woof!\"\n",
    "\n",
    "class Bulldog(Dog):\n",
    "         def breed(self):\n",
    "             return \"Bulldog\"\n",
    "\n",
    "bulldog = Bulldog()\n",
    "print(bulldog.sound())  # Output: Some sound\n",
    "print(bulldog.bark())   # Output: Woof!\n",
    "print(bulldog.breed())  # Output: Bulldog\n",
    "     "
   ]
  },
  {
   "cell_type": "markdown",
   "id": "e3c331d5-01b0-4d16-bca2-c4e7b0e4f253",
   "metadata": {},
   "source": [
    "#### 4. Hierarchical Inheritance:\n",
    "Multiple subclasses inherit from the same parent class.\n",
    "##### Example:"
   ]
  },
  {
   "cell_type": "code",
   "execution_count": 187,
   "id": "80a0a91b-dcde-4a3b-8111-7a9c636f8e42",
   "metadata": {},
   "outputs": [
    {
     "name": "stdout",
     "output_type": "stream",
     "text": [
      "Some sound\n",
      "Some sound\n"
     ]
    }
   ],
   "source": [
    "class Animal:\n",
    "         def sound(self):\n",
    "             return \"Some sound\"\n",
    "\n",
    "class Dog(Animal):\n",
    "         def bark(self):\n",
    "             return \"Woof!\"\n",
    "\n",
    "class Cat(Animal):\n",
    "         def meow(self):\n",
    "             return \"Meow!\"\n",
    "\n",
    "dog = Dog()\n",
    "cat = Cat()\n",
    "print(dog.sound())  \n",
    "print(cat.sound()) "
   ]
  },
  {
   "cell_type": "markdown",
   "id": "366c4632-eb4f-4d4e-ad44-444ab34a46b5",
   "metadata": {},
   "source": [
    "#### 5. Hybrid Inheritance\n",
    "A combination of two or more types of inheritance (e.g., a mix of multiple and hierarchical inheritance).\n"
   ]
  },
  {
   "cell_type": "markdown",
   "id": "f3a06840-4d4c-45d8-b1f3-cdb609c66a7a",
   "metadata": {},
   "source": [
    "##### Example:"
   ]
  },
  {
   "cell_type": "code",
   "execution_count": 190,
   "id": "77787915-0508-45c6-9108-e5d820b1fb31",
   "metadata": {},
   "outputs": [
    {
     "name": "stdout",
     "output_type": "stream",
     "text": [
      "Some sound\n",
      "Woof!\n",
      "Meow!\n"
     ]
    }
   ],
   "source": [
    " class Animal:\n",
    "    def sound(self):\n",
    "             return \"Some sound\"\n",
    "\n",
    "class Dog(Animal):\n",
    "    def bark(self):\n",
    "             return \"Woof!\"\n",
    "\n",
    "class Cat(Animal):\n",
    "    def meow(self):\n",
    "             return \"Meow!\"\n",
    "\n",
    "class Pet(Dog, Cat):\n",
    "    def activity(self):\n",
    "             return \"Plays with humans\"\n",
    "\n",
    "pet = Pet()\n",
    "print(pet.sound())    \n",
    "print(pet.bark())     \n",
    "print(pet.meow()) "
   ]
  },
  {
   "cell_type": "code",
   "execution_count": 191,
   "id": "dd574320-ad3d-4b13-a77e-3a687ea548dd",
   "metadata": {},
   "outputs": [
    {
     "name": "stdout",
     "output_type": "stream",
     "text": [
      "Plays with humans\n"
     ]
    }
   ],
   "source": [
    "print(pet.activity())"
   ]
  },
  {
   "cell_type": "markdown",
   "id": "802c5b23-016f-48e3-96cd-46cb59c30a44",
   "metadata": {},
   "source": [
    "#### Example of Multiple Inheritance:"
   ]
  },
  {
   "cell_type": "code",
   "execution_count": 194,
   "id": "28c967f5-e1d2-4030-bae1-1c3d188e616a",
   "metadata": {},
   "outputs": [
    {
     "name": "stdout",
     "output_type": "stream",
     "text": [
      "Engineer\n",
      "Painting\n",
      "Plays video games\n"
     ]
    }
   ],
   "source": [
    "class Father:\n",
    "    def profession(self):\n",
    "        return \"Engineer\"\n",
    "\n",
    "class Mother:\n",
    "    def hobby(self):\n",
    "        return \"Painting\"\n",
    "\n",
    "class Child(Father, Mother):\n",
    "    def activity(self):\n",
    "        return \"Plays video games\"\n",
    "\n",
    "# Create an instance of Child class\n",
    "child = Child()\n",
    "# Access methods from both parent classes\n",
    "print(child.profession())  \n",
    "print(child.hobby())       \n",
    "print(child.activity())"
   ]
  },
  {
   "cell_type": "markdown",
   "id": "fb3e3c55-d184-4b3a-affe-a3f27f7a0642",
   "metadata": {},
   "source": [
    "#### Summary:\n",
    "##### 1. Single Inheritance: \n",
    "A class inherits from one parent class.\n",
    "##### 2. Multiple Inheritance: \n",
    "A class inherits from more than one parent class.\n",
    "##### 3. Multilevel Inheritance:\n",
    "A class inherits from a parent class, which is itself inherited from another class.\n",
    "##### 4. Hierarchical Inheritance:\n",
    "Multiple classes inherit from the same parent class.\n",
    "##### 5. Hybrid Inheritance:\n",
    "A combination of two or more types of inheritance."
   ]
  },
  {
   "cell_type": "markdown",
   "id": "5efa961e-4273-4fb6-9051-7499382aff16",
   "metadata": {},
   "source": [
    "### Que 7. What is the Method Resolution Order (MRO) in Python? How can you retrieve it programmatically?"
   ]
  },
  {
   "cell_type": "markdown",
   "id": "634acfea-c172-4055-affd-3f5c2d2749c8",
   "metadata": {},
   "source": [
    "#### Method Resolution Order (MRO) in Python:\n",
    "\n",
    "The Method Resolution Order (MRO) in Python determines the order in which classes are searched when invoking a method or accessing an attribute in the presence of inheritance, especially in multiple inheritance scenarios. When you call a method on an instance, Python follows the MRO to find where that method is defined.\n",
    "\n",
    "Python uses the *C3 linearization* algorithm (also called C3 superclass linearization) to create the MRO in a way that maintains a consistent method search path. This ensures that classes are searched in a predictable order, and ambiguities are resolved in multiple inheritance situations.\n",
    "\n",
    "#### Key Points:\n",
    "- The MRO determines the sequence in which base classes are checked when a method is called.\n",
    "- In single inheritance, the MRO is straightforward: the class itself and its direct parent classes are checked in sequence.\n",
    "- In multiple inheritance, Python uses the C3 linearization algorithm to ensure a consistent and unambiguous resolution order.\n",
    "\n",
    "#### Retrieving MRO Programmatically:\n",
    "\n",
    "There are two primary ways to retrieve the MRO of a class:"
   ]
  },
  {
   "cell_type": "markdown",
   "id": "22a65c3d-74e8-4c64-9798-f485fabb9965",
   "metadata": {},
   "source": [
    "#### 1. Using the __mro__ attribute:\n",
    "Every class in Python has an attribute called __mro__, which stores the MRO as a tuple of classes."
   ]
  },
  {
   "cell_type": "markdown",
   "id": "b7dc9cdb-b28d-479a-8a7a-e230bea12aac",
   "metadata": {},
   "source": [
    "##### Example:"
   ]
  },
  {
   "cell_type": "code",
   "execution_count": 199,
   "id": "ed8af04f-7122-4482-8473-02bb6e3f10de",
   "metadata": {},
   "outputs": [
    {
     "name": "stdout",
     "output_type": "stream",
     "text": [
      "(<class '__main__.C'>, <class '__main__.B'>, <class '__main__.A'>, <class 'object'>)\n"
     ]
    }
   ],
   "source": [
    "class A:\n",
    "         pass\n",
    "\n",
    "class B(A):\n",
    "         pass\n",
    "\n",
    "class C(B):\n",
    "         pass\n",
    "\n",
    "print(C.__mro__)"
   ]
  },
  {
   "cell_type": "markdown",
   "id": "39200fa0-3e4e-4828-94eb-c46804aa1238",
   "metadata": {},
   "source": [
    "#### 2. Using the mro() method:\n",
    "You can also call the mro() method on a class to retrieve the MRO as a list."
   ]
  },
  {
   "cell_type": "markdown",
   "id": "1e6bb2ee-902f-44fb-9163-e7bb76896199",
   "metadata": {},
   "source": [
    "##### Example:"
   ]
  },
  {
   "cell_type": "code",
   "execution_count": 200,
   "id": "3131ad8a-a48e-412d-ae20-d036bb15215b",
   "metadata": {},
   "outputs": [
    {
     "name": "stdout",
     "output_type": "stream",
     "text": [
      "[<class '__main__.C'>, <class '__main__.B'>, <class '__main__.A'>, <class 'object'>]\n"
     ]
    }
   ],
   "source": [
    "class A:\n",
    "         pass\n",
    "\n",
    "class B(A):\n",
    "         pass\n",
    "\n",
    "class C(B):\n",
    "         pass\n",
    "\n",
    "print(C.mro())"
   ]
  },
  {
   "cell_type": "markdown",
   "id": "896a082b-f59f-4e25-976c-3907d742e734",
   "metadata": {},
   "source": [
    "#### Example with Multiple Inheritance"
   ]
  },
  {
   "cell_type": "code",
   "execution_count": 201,
   "id": "634d9ef5-2642-458d-aded-8a5e2dfd76ca",
   "metadata": {},
   "outputs": [
    {
     "name": "stdout",
     "output_type": "stream",
     "text": [
      "I am B\n",
      "[<class '__main__.D'>, <class '__main__.B'>, <class '__main__.C'>, <class '__main__.A'>, <class 'object'>]\n"
     ]
    }
   ],
   "source": [
    "class A:\n",
    "    def who_am_i(self):\n",
    "        return \"I am A\"\n",
    "\n",
    "class B(A):\n",
    "    def who_am_i(self):\n",
    "        return \"I am B\"\n",
    "\n",
    "class C(A):\n",
    "    def who_am_i(self):\n",
    "        return \"I am C\"\n",
    "\n",
    "class D(B, C):\n",
    "    pass\n",
    "\n",
    "d = D()\n",
    "print(d.who_am_i()) \n",
    "print(D.mro()) "
   ]
  },
  {
   "cell_type": "markdown",
   "id": "fa91d88d-704c-4c31-9782-bd8fca81afc0",
   "metadata": {},
   "source": [
    "In this example:\n",
    "- Class D inherits from both B and C.\n",
    "- The method who_am_i() is defined in both B and C, but Python will use the method from B because B comes before C in the MRO.\n",
    "- The MRO for class D is [D, B, C, A, object]."
   ]
  },
  {
   "cell_type": "markdown",
   "id": "e7070f2a-1a54-4cbf-a55d-197ec5fa2818",
   "metadata": {},
   "source": [
    "#### How MRO Works:\n",
    "- For single inheritance, the MRO is simple: it follows the class hierarchy from the current class to its parent classes, and ultimately to the built-in object class.\n",
    "- For multiple inheritance, Python uses the C3 linearization algorithm to determine the order in which classes are considered. It ensures:\n",
    " ##### 1. Child class first: \n",
    " The class itself is checked first.\n",
    " ##### 2. Depth-first, left-to-right: \n",
    " Python checks base classes in a depth-first, left-to-right order, meaning it searches the base classes in the order they are inherited.\n",
    " ##### 3. No class is repeated:\n",
    " Each class appears in the MRO only once, even if it appears multiple times in the inheritance hierarchy.\n",
    "\n",
    "#### Summary:\n",
    "- **MRO** determines the order in which base classes are searched for a method or attribute.\n",
    "- **C3 linearization** is the algorithm Python uses to ensure a consistent and unambiguous search order.\n",
    "- You can retrieve the MRO using the __mro__ attribute or the mro() method."
   ]
  },
  {
   "cell_type": "markdown",
   "id": "f65944eb-2a9d-4077-a7e1-5625edcd9329",
   "metadata": {},
   "source": [
    "### Que 8. Create an abstract base class `Shape` with an abstract method `area()`. Then create two subclasses`Circle` and `Rectangle` that implement the `area()` method."
   ]
  },
  {
   "cell_type": "markdown",
   "id": "4a5ae442-4005-4cb2-910d-8342e3acf2d6",
   "metadata": {},
   "source": [
    "A Python implementation of an abstract base class Shape with an abstract method area(), and two subclasses Circle and Rectangle that implement the area() method:"
   ]
  },
  {
   "cell_type": "code",
   "execution_count": 202,
   "id": "5c080d25-c1a5-40d1-bb56-1c1a1268d83a",
   "metadata": {},
   "outputs": [],
   "source": [
    "from abc import ABC, abstractmethod\n",
    "import math"
   ]
  },
  {
   "cell_type": "code",
   "execution_count": 205,
   "id": "3df32833-d535-4abe-bd79-d947a4501e5c",
   "metadata": {},
   "outputs": [],
   "source": [
    "# Abstract base class\n",
    "class Shape(ABC):\n",
    "    \n",
    "    @abstractmethod\n",
    "    def area(self):\n",
    "        pass\n",
    "\n",
    "# Subclass for Circle\n",
    "class Circle(Shape):\n",
    "    \n",
    "    def __init__(self, radius):\n",
    "        self.radius = radius\n",
    "    \n",
    "    def area(self):\n",
    "        return math.pi * self.radius ** 2\n",
    "\n",
    "# Subclass for Rectangle\n",
    "class Rectangle(Shape):\n",
    "    def __init__(self, width, height):\n",
    "        self.width = width\n",
    "        self.height = height\n",
    "    \n",
    "    def area(self):\n",
    "        return self.width * self.height"
   ]
  },
  {
   "cell_type": "markdown",
   "id": "1034f6d3-aeec-4610-9dde-c4c4a53731a7",
   "metadata": {},
   "source": [
    "##### Example usage:"
   ]
  },
  {
   "cell_type": "code",
   "execution_count": 206,
   "id": "95951dfa-9be7-4a6e-bf77-a635cbfa375d",
   "metadata": {},
   "outputs": [
    {
     "name": "stdout",
     "output_type": "stream",
     "text": [
      "Circle area: 78.53981633974483\n",
      "Rectangle area: 24\n"
     ]
    }
   ],
   "source": [
    "circle = Circle(5)\n",
    "rectangle = Rectangle(4, 6)\n",
    "\n",
    "print(\"Circle area:\", circle.area())        \n",
    "print(\"Rectangle area:\", rectangle.area())"
   ]
  },
  {
   "cell_type": "markdown",
   "id": "abfc08ee-5133-418d-bdb3-90c4be7499f7",
   "metadata": {},
   "source": [
    "#### Explanation:\n",
    "##### 1. Shape:\n",
    "This is the abstract base class that contains the abstract method area(). It serves as a template for its subclasses.\n",
    "##### 2. Circle: \n",
    "This subclass implements the area() method to compute the area of a circle using the formula π * r^2.\n",
    "##### 3. Rectangle: \n",
    "This subclass implements the area() method to compute the area of a rectangle using the formula width * height.\n",
    "\n",
    "Each subclass must implement the area() method; otherwise, it will raise an error if instantiated."
   ]
  },
  {
   "cell_type": "markdown",
   "id": "d1aae69f-44bc-4636-abaa-7d68cce398a3",
   "metadata": {},
   "source": [
    "### Que 9. Demonstrate polymorphism by creating a function that can work with different shape objects to calculate and print their areas."
   ]
  },
  {
   "cell_type": "markdown",
   "id": "dacf63b0-1674-4a0a-8fde-3d8ee64007a6",
   "metadata": {},
   "source": [
    "An example of how you can demonstrate polymorphism by creating a function that works with different Shape objects to calculate and print their areas:\n",
    "\n",
    "##### Function to calculate and print area of any shape"
   ]
  },
  {
   "cell_type": "code",
   "execution_count": 207,
   "id": "a7b57a6c-f352-41f9-9676-0779195a80e8",
   "metadata": {},
   "outputs": [],
   "source": [
    "def print_area(shape):\n",
    "    print(f\"The area of the {shape.__class__.__name__} is: {shape.area()}\")"
   ]
  },
  {
   "cell_type": "markdown",
   "id": "e2cbc926-880b-4c5e-aee2-10a9ac463629",
   "metadata": {},
   "source": [
    "##### Example usage:"
   ]
  },
  {
   "cell_type": "code",
   "execution_count": 209,
   "id": "31b97a7e-3fd1-49f4-bf50-a88bc0509ebd",
   "metadata": {},
   "outputs": [
    {
     "name": "stdout",
     "output_type": "stream",
     "text": [
      "The area of the Circle is: 78.53981633974483\n",
      "The area of the Rectangle is: 24\n"
     ]
    }
   ],
   "source": [
    "circle = Circle(5)\n",
    "rectangle = Rectangle(4, 6)\n",
    "\n",
    "# Polymorphism in action\n",
    "print_area(circle)      \n",
    "print_area(rectangle) "
   ]
  },
  {
   "cell_type": "markdown",
   "id": "baf9a13a-9406-4824-a6ef-1284178836c9",
   "metadata": {},
   "source": [
    "#### Explanation:\n",
    "- The function print_area() takes an object of type Shape (or any subclass of Shape) and calls its area() method.\n",
    "- This is an example of *polymorphism*, where the same function (print_area) behaves differently based on the type of the object passed to it.\n",
    "- The function is able to work with any object that is a subclass of Shape without needing to know its specific type (Circle or Rectangle). The appropriate area() method is called for each type."
   ]
  },
  {
   "cell_type": "markdown",
   "id": "9a454a65-54e4-47e5-ae10-3221709fcb42",
   "metadata": {},
   "source": [
    "#### Output:\n",
    "plaintext\n",
    "- The area of the Circle is: 78.53981633974483\n",
    "- The area of the Rectangle is: 24"
   ]
  },
  {
   "cell_type": "markdown",
   "id": "d709b2b5-c605-4827-98d2-889160bf5057",
   "metadata": {},
   "source": [
    "### Que 10: Implement encapsulation in a `BankAccount` class with private attributes for `balance` and `account_number`. Include methods for deposit, withdrawal, and balance inquiry."
   ]
  },
  {
   "cell_type": "markdown",
   "id": "45e11c64-a177-47b6-b226-3fbb5184f241",
   "metadata": {},
   "source": [
    "Implementing encapsulation in a BankAccount class with private attributes and methods for deposit, withdrawal, and balance inquiry:"
   ]
  },
  {
   "cell_type": "code",
   "execution_count": 2,
   "id": "be051f46-b52d-405c-b93a-8ede3f684f06",
   "metadata": {},
   "outputs": [
    {
     "name": "stdout",
     "output_type": "stream",
     "text": [
      "Deposited 200. New balance: 700\n",
      "Withdrew 100. New balance: 600\n",
      "600\n",
      "987654321\n"
     ]
    }
   ],
   "source": [
    "class BankAccount:\n",
    "    def __init__(self, account_number, initial_balance=0):\n",
    "        # Private attributes\n",
    "        self.__account_number = account_number\n",
    "        self.__balance = initial_balance\n",
    "\n",
    "    # Method to deposit money\n",
    "    def deposit(self, amount):\n",
    "        if amount > 0:\n",
    "            self.__balance += amount\n",
    "            print(f\"Deposited {amount}. New balance: {self.__balance}\")\n",
    "        else:\n",
    "            print(\"Deposit amount must be positive.\")\n",
    "\n",
    "    # Method to withdraw money\n",
    "    def withdraw(self, amount):\n",
    "        if 0 < amount <= self.__balance:\n",
    "            self.__balance -= amount\n",
    "            print(f\"Withdrew {amount}. New balance: {self.__balance}\")\n",
    "        else:\n",
    "            print(\"Invalid withdrawal amount.\")\n",
    "\n",
    "    # Method to inquire the balance\n",
    "    def get_balance(self):\n",
    "        return self.__balance\n",
    "\n",
    "    # Method to get the account number\n",
    "    def get_account_number(self):\n",
    "        return self.__account_number\n",
    "\n",
    "# Example usage\n",
    "account = BankAccount(\"987654321\", 500)\n",
    "account.deposit(200)            \n",
    "account.withdraw(100)           \n",
    "print(account.get_balance())    \n",
    "print(account.get_account_number()) "
   ]
  },
  {
   "cell_type": "markdown",
   "id": "22606499-1f04-4c5a-9a20-d533a7dc6d3a",
   "metadata": {},
   "source": [
    "#### Key Concepts:\n",
    "\n",
    "\n",
    "-Private Attributes: The __account_number and __balance are private attributes, which means they cannot be accessed directly from outside the class. They can only be accessed and modified through the class methods.\n",
    "\n",
    "\n",
    "-Encapsulation: The private attributes ensure that the internal state of the object is hidden from the outside, and any interaction with the data is controlled through methods.\n",
    "\n",
    "\n",
    "-Public Methods: The methods deposit, withdraw, get_balance, and get_account_number are public methods, allowing controlled access and manipulation of the private data.\n",
    "\n",
    "\n",
    "-This structure ensures that the integrity of the BankAccount class is maintained, with all operations on the account balance being performed through the appropriate methods."
   ]
  },
  {
   "cell_type": "markdown",
   "id": "d8e1c014-8980-4c12-8573-46ec55001a05",
   "metadata": {},
   "source": [
    "### Que 11: Write a class that overrides the `__str__` and `__add__` magic methods. What will these methods allow you to do?"
   ]
  },
  {
   "cell_type": "markdown",
   "id": "f6901c5a-3d9e-49b0-a021-d32968daa051",
   "metadata": {},
   "source": [
    "Certainly! When you override the __str__ and __add__ magic methods in a Python, you enable custom behaviors for converting objects to strings and for adding objects together with the + operator.\n",
    "\n",
    "Here’s an example of a class that overrides both of these methods:"
   ]
  },
  {
   "cell_type": "code",
   "execution_count": 6,
   "id": "9a3250e7-3f9e-4ba3-8c25-df7dd3effb71",
   "metadata": {},
   "outputs": [
    {
     "name": "stdout",
     "output_type": "stream",
     "text": [
      "3 + 4i\n",
      "1 + 2i\n",
      "4 + 6i\n"
     ]
    }
   ],
   "source": [
    "class ComplexNumber:\n",
    "    def __init__(self, real, imaginary):\n",
    "        self.real = real\n",
    "        self.imaginary = imaginary\n",
    "\n",
    "    def __str__(self):\n",
    "        return f\"{self.real} + {self.imaginary}i\"\n",
    "\n",
    "    def __add__(self, other):\n",
    "        if isinstance(other, ComplexNumber):\n",
    "            new_real = self.real + other.real\n",
    "            new_imaginary = self.imaginary + other.imaginary\n",
    "            return ComplexNumber(new_real, new_imaginary)\n",
    "        return NotImplemented\n",
    "\n",
    "# Example usage\n",
    "c1 = ComplexNumber(3, 4)\n",
    "c2 = ComplexNumber(1, 2)\n",
    "\n",
    "print(c1)  \n",
    "print(c2)  \n",
    "\n",
    "c3 = c1 + c2  \n",
    "print(c3)  "
   ]
  },
  {
   "cell_type": "markdown",
   "id": "2a165bcb-cf61-4edd-8ee8-7a11e915ff5c",
   "metadata": {},
   "source": [
    "#### Explanation:\n",
    "\n",
    "\n",
    "##### __str__ Method:\n",
    "\n",
    "\n",
    "The __str__ method is used to define the string representation of an object.\n",
    "\n",
    "    \n",
    "When you use print() on an object or call str() on it, Python uses the __str__ method to determine what to display.\n",
    "\n",
    "\n",
    "In this example, __str__ is overridden to provide a formatted string representation of a complex number, e.g., \"3 + 4i\".\n",
    "\n",
    "\n",
    "__add__ Method:\n",
    "\n",
    "The __add__ method defines how two objects of the class should be added together using the + operator.\n",
    "\n",
    "\n",
    "In the example, __add__ is overridden to add two ComplexNumber objects by separately adding their real and imaginary parts.\n",
    "\n",
    "    \n",
    "When you write c1 + c2, Python automatically calls the __add__ method, returning a new ComplexNumber object that represents the sum of the two.\n",
    "\n",
    "    \n",
    "What These Methods Allow You to Do:\n",
    "\n",
    "\n",
    "Custom String Representation: By overriding __str__, you can control how your objects are represented as strings, making it easier to display and understand the object's data when printed or logged.\n",
    "\n",
    "\n",
    "\n",
    "Operator Overloading: By overriding __add__, you can define how the + operator works for your objects, enabling intuitive mathematical operations that align with the nature of the objects (e.g., adding complex numbers, points, etc.).\n",
    "\n",
    "\n",
    "\n",
    "These techniques allow your class to behave more naturally and integrate smoothly with Python’s built-in functions and operators."
   ]
  },
  {
   "cell_type": "markdown",
   "id": "01ad8cbd-6741-4258-bb81-8200b2390d43",
   "metadata": {},
   "source": [
    "#### Key Concepts:\n",
    "\n",
    "\n",
    "Custom String Representation: The __str__ method allows objects to be easily converted to a human-readable string, which is useful for debugging or logging.\n",
    "\n",
    "\n",
    "Operator Overloading: The __add__ method (and similar magic methods like __sub__, __mul__, etc.) allows you to define custom behavior for operators, making objects behave in intuitive ways when combined with standard operators."
   ]
  },
  {
   "cell_type": "markdown",
   "id": "a47e43ed-f4a3-4f15-8eee-dab68227afc2",
   "metadata": {},
   "source": [
    "### Que 12: Create a decorator that measures and prints the execution time of a function."
   ]
  },
  {
   "cell_type": "markdown",
   "id": "5bbbd699-d4b0-431b-a123-996ac19546bc",
   "metadata": {},
   "source": [
    "Creating a decorator in Python that measures and prints the execution time of a function using the time module. Here's how you can do it:"
   ]
  },
  {
   "cell_type": "code",
   "execution_count": 7,
   "id": "7c2cc158-57a7-4303-bdd8-cb0aac3ed9f1",
   "metadata": {},
   "outputs": [
    {
     "name": "stdout",
     "output_type": "stream",
     "text": [
      "Execution time of example_function: 0.166045 seconds\n",
      "Result: 499999500000\n"
     ]
    }
   ],
   "source": [
    "import time\n",
    "\n",
    "def time_it(func):\n",
    "    def wrapper(*args, **kwargs):\n",
    "        start_time = time.time()  # Record the start time\n",
    "        result = func(*args, **kwargs)  # Call the original function\n",
    "        end_time = time.time()  # Record the end time\n",
    "        execution_time = end_time - start_time  # Calculate the execution time\n",
    "        print(f\"Execution time of {func.__name__}: {execution_time:.6f} seconds\")\n",
    "        return result  # Return the result of the original function\n",
    "    return wrapper\n",
    "\n",
    "# Example usage\n",
    "@time_it\n",
    "def example_function(n):\n",
    "    total = 0\n",
    "    for i in range(n):\n",
    "        total += i\n",
    "    return total\n",
    "\n",
    "# Call the function\n",
    "result = example_function(1000000)\n",
    "print(\"Result:\", result)"
   ]
  },
  {
   "cell_type": "markdown",
   "id": "91447c46-2e0f-45e9-8dc8-936b72a1b8a4",
   "metadata": {},
   "source": [
    "##### Explanation:\n",
    "\n",
    "\n",
    "Decorator time_it:\n",
    "\n",
    "1.The decorator time_it takes a function func as an argument and returns a wrapper function.\n",
    "\n",
    "    \n",
    "2.Inside wrapper, the start time is recorded using time.time().\n",
    "\n",
    "    \n",
    "3.The original function is then executed with any arguments passed to it.\n",
    "\n",
    "    \n",
    "4.After the function call, the end time is recorded.\n",
    "\n",
    "\n",
    "5.The execution time is calculated by subtracting the start time from the end time.\n",
    "\n",
    "    \n",
    "6.The execution time is printed with the function's name.\n",
    "\n",
    "\n",
    "7.Finally, the result of the original function is returned.\n",
    "\n",
    "\n",
    "Applying the Decorator:\n",
    "\n",
    "You apply the time_it decorator to a function using the @time_it syntax. This causes the decorator to wrap the original function with the wrapper function, adding the timing logic.\n",
    "\n",
    "    \n",
    "Example Function:\n",
    "\n",
    "The example_function computes the sum of numbers from 0 to n-1.\n",
    "\n",
    "\n",
    "When you call example_function(1000000), the execution time is measured and printed."
   ]
  },
  {
   "cell_type": "markdown",
   "id": "743914fd-29ff-4f38-a91b-19927c02e01d",
   "metadata": {},
   "source": [
    "##### Output:\n",
    "\n",
    "When you run the code, you'll see the execution time printed, along with the result of the function:"
   ]
  },
  {
   "cell_type": "code",
   "execution_count": 8,
   "id": "251fac81-c4f7-43ed-9619-6215e7e76eaf",
   "metadata": {},
   "outputs": [],
   "source": [
    "#Execution time of example_function: 0.030000 seconds\n",
    "#Result: 499999500000"
   ]
  },
  {
   "cell_type": "markdown",
   "id": "4ccd21c1-85aa-4479-8779-ca2fed221187",
   "metadata": {},
   "source": [
    "This decorator can be reused to measure the execution time of any function by simply applying @time_it to it."
   ]
  },
  {
   "cell_type": "markdown",
   "id": "e06c6e32-31c2-4531-9e7e-04ac55e46b4b",
   "metadata": {},
   "source": [
    "### Que 13:  Explain the concept of the Diamond Problem in multiple inheritance. How does Python resolve it?"
   ]
  },
  {
   "cell_type": "markdown",
   "id": "b85f2436-86b3-4404-bf0b-0daf94c02f62",
   "metadata": {},
   "source": [
    "The Diamond Problem is a common issue in object-oriented programming that occurs in languages that support multiple inheritance. It arises when a class inherits from two classes that both inherit from a single common base class, forming a diamond-shaped inheritance structure. The problem is related to ambiguity about which method or attribute should be inherited from the base class."
   ]
  },
  {
   "cell_type": "markdown",
   "id": "a1da09e1-a100-476b-9d80-640b462ac6d0",
   "metadata": {},
   "source": [
    "The Diamond Problem\n",
    "Consider the following class hierarchy:"
   ]
  },
  {
   "cell_type": "markdown",
   "id": "d24c3168-9bc1-4244-8a78-148f2f709252",
   "metadata": {},
   "source": [
    "      A\n",
    "     / \\\n",
    "    B   C\n",
    "     \\ /\n",
    "      D"
   ]
  },
  {
   "cell_type": "markdown",
   "id": "9e48b7a8-4452-482e-8db5-5a9b9470a054",
   "metadata": {},
   "source": [
    "Class A is the base class.\n",
    "\n",
    "Classes B and C both inherit from class A.\n",
    "\n",
    "Class D inherits from both B and C.\n",
    "\n",
    "Here’s the diamond structure:\n"
   ]
  },
  {
   "cell_type": "code",
   "execution_count": 10,
   "id": "fcec2065-c790-4d00-9f1a-4a6c1164ca58",
   "metadata": {},
   "outputs": [],
   "source": [
    "class A:\n",
    "    def show(self):\n",
    "        print(\"A\")\n",
    "\n",
    "class B(A):\n",
    "    def show(self):\n",
    "        print(\"B\")\n",
    "\n",
    "class C(A):\n",
    "    def show(self):\n",
    "        print(\"C\")\n",
    "\n",
    "class D(B, C):\n",
    "    pass"
   ]
  },
  {
   "cell_type": "markdown",
   "id": "4767805e-78ec-4533-b768-b6d1b40c8971",
   "metadata": {},
   "source": [
    "Now, if you create an instance of D and call the show() method:"
   ]
  },
  {
   "cell_type": "code",
   "execution_count": 11,
   "id": "6aaeefd1-2a1d-4068-b98d-e536b9e71bf4",
   "metadata": {},
   "outputs": [
    {
     "name": "stdout",
     "output_type": "stream",
     "text": [
      "B\n"
     ]
    }
   ],
   "source": [
    "d = D()\n",
    "d.show() "
   ]
  },
  {
   "cell_type": "markdown",
   "id": "3c14c632-9c17-4cc6-8c71-05339b75d75a",
   "metadata": {},
   "source": [
    "The question arises: which show() method should be called—B's, C's, or A's? This ambiguity is the essence of the Diamond Problem."
   ]
  },
  {
   "cell_type": "markdown",
   "id": "75796131-1f93-4842-a576-fed387224542",
   "metadata": {},
   "source": [
    "How Python Resolves the Diamond Problem-\n",
    "\n",
    "Python resolves the Diamond Problem using a method resolution order (MRO) and the C3 linearization algorithm. The MRO is the order in which base classes are searched when executing a method. This order ensures that a method is called from the correct class and avoids ambiguity.\n",
    "\n",
    "In the example above, Python will search for methods in the following order (MRO):\n",
    "\n",
    "D\n",
    "\n",
    "B\n",
    "\n",
    "C\n",
    "\n",
    "A\n",
    "\n",
    "This MRO can be observed using the __mro__ attribute or the mro() method:"
   ]
  },
  {
   "cell_type": "code",
   "execution_count": 12,
   "id": "c49b4cd9-b995-4360-ac85-ea504bebd567",
   "metadata": {},
   "outputs": [
    {
     "name": "stdout",
     "output_type": "stream",
     "text": [
      "[<class '__main__.D'>, <class '__main__.B'>, <class '__main__.C'>, <class '__main__.A'>, <class 'object'>]\n"
     ]
    }
   ],
   "source": [
    "print(D.mro())"
   ]
  },
  {
   "cell_type": "markdown",
   "id": "d15c7baa-d896-4a78-864e-77155f830ffe",
   "metadata": {},
   "source": [
    "So, in the **example**:\n",
    "\n",
    "When d.show() is called, Python looks first in D for a show method.\n",
    "\n",
    "Since D doesn’t have a show method, it proceeds to B and finds the show method there.\n",
    "\n",
    "The show method from B is executed, so the output is B."
   ]
  },
  {
   "cell_type": "markdown",
   "id": "9e483c1d-d697-43bb-9aaf-4f0aba15e9b7",
   "metadata": {},
   "source": [
    "Why This Works\n",
    "\n",
    "Python's MRO ensures that:\n",
    "\n",
    "Each base class is only called once, even if it's inherited through multiple paths (this avoids duplicate calls to A).\n",
    "\n",
    "The order is consistent and predictable, preventing ambiguity.\n",
    "    \n",
    "If class D had its own show method, it would be used, but if not, Python follows the MRO to find the next method.\n",
    "\n",
    "Summary\n",
    "\n",
    "The Diamond Problem occurs in multiple inheritance scenarios when ambiguity arises about which method or attribute to inherit from a common base class.\n",
    "\n",
    "Python resolves the Diamond Problem using the MRO, which follows a linearization order based on the C3 algorithm.\n",
    "    \n",
    "The MRO ensures a consistent and unambiguous order of method resolution, preventing issues like duplicate method calls or ambiguity.\n",
    "\n",
    "\n",
    "\n",
    "\n",
    "\n",
    "\n"
   ]
  },
  {
   "cell_type": "markdown",
   "id": "964d0d3d-728a-492c-9c8f-6b371f8bae64",
   "metadata": {},
   "source": [
    "### Que 14: Write a class method that keeps track of the number of instances created from a class. "
   ]
  },
  {
   "cell_type": "markdown",
   "id": "94aac06a-2e4b-4dff-bbb8-fc61b9ed490f",
   "metadata": {},
   "source": [
    "You can keep track of the number of instances created from a class by using a class-level attribute that is incremented each time a new instance is created. Here's how you can implement this:"
   ]
  },
  {
   "cell_type": "code",
   "execution_count": 19,
   "id": "947e4d10-10e1-4e18-a46e-815d30b82199",
   "metadata": {},
   "outputs": [
    {
     "name": "stdout",
     "output_type": "stream",
     "text": [
      "3\n"
     ]
    }
   ],
   "source": [
    "class InstanceCounter:\n",
    "    instance_count = 0  # Class-level attribute to keep track of instances\n",
    "\n",
    "    def __init__(self):\n",
    "        InstanceCounter.instance_count += 1  # Increment count each time an instance is created\n",
    "\n",
    "    @classmethod\n",
    "    def get_instance_count(cls):\n",
    "        return cls.instance_count  # Return the current count of instances\n",
    "\n",
    "# Example usage\n",
    "a = InstanceCounter()\n",
    "b = InstanceCounter()\n",
    "c = InstanceCounter()\n",
    "\n",
    "print(InstanceCounter.get_instance_count())  \n"
   ]
  },
  {
   "cell_type": "markdown",
   "id": "323af47c-d59e-468f-b359-d66ef25262f6",
   "metadata": {},
   "source": [
    "##### Explanation:\n",
    "\n",
    "instance_count:\n",
    "\n",
    "This is a class-level attribute (also known as a class variable). It is shared by all instances of the class and is used to keep track of how many instances of the class have been created.\n",
    "    \n",
    "It is initialized to 0.\n",
    "    \n",
    "__init__ Method:\n",
    "\n",
    "Each time a new instance is created, the __init__ method is called. Inside this method, InstanceCounter.instance_count is incremented by 1.\n",
    "    \n",
    "This ensures that each time a new instance is created, the count is updated.\n",
    "    \n",
    "@classmethod and get_instance_count:\n",
    "\n",
    "get_instance_count is a class method that returns the current value of instance_count.\n",
    "\n",
    "The @classmethod decorator allows the method to be called on the class itself (cls) rather than on an instance of the class.\n",
    "    \n",
    "This method can be called on the class to check how many instances have been created so far."
   ]
  },
  {
   "cell_type": "markdown",
   "id": "51bc2a88-05b6-4b9c-ba4c-5176ecac0864",
   "metadata": {},
   "source": [
    "##### Output:\n",
    "\n",
    "If you create three instances of the InstanceCounter class, as shown in the example:\n",
    "\n",
    "python-\n",
    "\n",
    "Copy code\n",
    "    \n",
    "a = InstanceCounter()\n",
    "    \n",
    "b = InstanceCounter()\n",
    " \n",
    "c = InstanceCounter()\n",
    " \n",
    "Then calling InstanceCounter.get_instance_count() will return 3, indicating that three instances have been created.\n",
    "\n",
    "This pattern is useful when you need to monitor or limit the number of instances that can be created from a class."
   ]
  },
  {
   "cell_type": "markdown",
   "id": "7f7a3952-a441-4e0b-9166-61f067742221",
   "metadata": {},
   "source": [
    "### Que 15:  Implement a static method in a class that checks if a given year is a leap year."
   ]
  },
  {
   "cell_type": "markdown",
   "id": "903758ce-892d-465f-9cad-47c04a29d384",
   "metadata": {},
   "source": [
    "You can implement a static method to check if a given year is a leap year as follows:"
   ]
  },
  {
   "cell_type": "code",
   "execution_count": 14,
   "id": "f20645c8-bc91-48d7-9f4d-79dcbcf64963",
   "metadata": {},
   "outputs": [
    {
     "name": "stdout",
     "output_type": "stream",
     "text": [
      "True\n",
      "False\n",
      "True\n",
      "False\n"
     ]
    }
   ],
   "source": [
    "class DateUtils:\n",
    "    @staticmethod\n",
    "    def is_leap_year(year):\n",
    "        # A year is a leap year if it is divisible by 4\n",
    "        # but not divisible by 100, except if it is divisible by 400\n",
    "        if (year % 4 == 0 and year % 100 != 0) or (year % 400 == 0):\n",
    "            return True\n",
    "        else:\n",
    "            return False\n",
    "\n",
    "# Example usage\n",
    "print(DateUtils.is_leap_year(2020))  \n",
    "print(DateUtils.is_leap_year(1900)) \n",
    "print(DateUtils.is_leap_year(2000)) \n",
    "print(DateUtils.is_leap_year(2023)) "
   ]
  },
  {
   "cell_type": "markdown",
   "id": "29e31bd3-3381-411b-b07e-cf2623607106",
   "metadata": {},
   "source": [
    "#### Explanation:\n",
    "\n",
    "@staticmethod Decorator:\n",
    "\n",
    "The @staticmethod decorator indicates that the method does not depend on the instance of the class (i.e., it doesn’t access or modify the instance or class-level attributes). It operates solely based on the input arguments.\n",
    "\n",
    "This makes is_leap_year a method that can be called directly on the class without creating an instance.\n",
    "\n",
    "is_leap_year Method:\n",
    "\n",
    "The logic inside the is_leap_year method follows the rules for determining leap years:\n",
    "                                                          \n",
    "A year is a leap year if it is divisible by 4.\n",
    "    \n",
    "However, if the year is divisible by 100, it is not a leap year unless it is also divisible by 400.\n",
    "    \n",
    "The method returns True if the year is a leap year and False otherwise.\n",
    "    \n",
    "Usage:\n",
    "    \n",
    "You can call this static method directly on the class without needing to create an instance:"
   ]
  },
  {
   "cell_type": "code",
   "execution_count": 17,
   "id": "27929cac-162d-4115-ae77-dd7a6b7a7a94",
   "metadata": {},
   "outputs": [
    {
     "name": "stdout",
     "output_type": "stream",
     "text": [
      "True\n"
     ]
    }
   ],
   "source": [
    "print(DateUtils.is_leap_year(2020))"
   ]
  },
  {
   "cell_type": "markdown",
   "id": "ecdc5b87-345c-4d75-9f62-b29703c5f6da",
   "metadata": {},
   "source": [
    "This method correctly identifies leap years according to the rules of the Gregorian calendar."
   ]
  },
  {
   "cell_type": "code",
   "execution_count": null,
   "id": "6a0a939b-2edb-4c66-b2d6-1a04e4ffdd05",
   "metadata": {},
   "outputs": [],
   "source": []
  }
 ],
 "metadata": {
  "kernelspec": {
   "display_name": "Python 3 (ipykernel)",
   "language": "python",
   "name": "python3"
  },
  "language_info": {
   "codemirror_mode": {
    "name": "ipython",
    "version": 3
   },
   "file_extension": ".py",
   "mimetype": "text/x-python",
   "name": "python",
   "nbconvert_exporter": "python",
   "pygments_lexer": "ipython3",
   "version": "3.12.4"
  }
 },
 "nbformat": 4,
 "nbformat_minor": 5
}
